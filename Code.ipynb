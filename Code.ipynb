{
 "cells": [
  {
   "cell_type": "markdown",
   "metadata": {},
   "source": [
    "# <center> Assignment 2 - Computer Vision ENCS5343\n"
   ]
  },
  {
   "cell_type": "markdown",
   "metadata": {},
   "source": [
    "### This assignment achieve to implement Content-Based Image Retrieval (CBIR) using various image representations in order to compare between them, observe the results of each method, measure the efficiency of each method using metrics (Accuracy, AUC, F1-Score, ....)\n",
    "#### Steps: \n",
    "1. Data processing (uploading images and getting them ready).\n",
    "2. Choose an image representation technique.\n",
    "3. Apply the CBIR on 15 different queries.\n",
    "4. Observe the results depending with their rankings.\n",
    "5. Measure the preformace using different measure metrics."
   ]
  },
  {
   "cell_type": "markdown",
   "metadata": {},
   "source": [
    "### Step 0: Import important packages and libraries."
   ]
  },
  {
   "cell_type": "code",
   "execution_count": 5,
   "metadata": {},
   "outputs": [],
   "source": [
    "from PIL import Image\n",
    "import cv2 as cv\n",
    "import matplotlib.pyplot\n",
    "import os"
   ]
  },
  {
   "cell_type": "markdown",
   "metadata": {},
   "source": [
    "### Step 1: Upload and store the data."
   ]
  },
  {
   "cell_type": "code",
   "execution_count": 6,
   "metadata": {},
   "outputs": [],
   "source": [
    "def upload_and_store_images(dataset_filepath):\n",
    "    images = []\n",
    "    for filename in os.listdir(path=dataset_filepath):\n",
    "        image_path = os.path.join(dataset_filepath, filename)\n",
    "        if os.path.isfile(image_path):\n",
    "            try: \n",
    "                images.append(Image.open(image_path))\n",
    "            except:\n",
    "                print(\"Failed to upload image: {image_path}\")\n",
    "    return images\n",
    "images = upload_and_store_images('./dataset')"
   ]
  },
  {
   "cell_type": "code",
   "execution_count": null,
   "metadata": {},
   "outputs": [],
   "source": []
  }
 ],
 "metadata": {
  "kernelspec": {
   "display_name": "Python 3",
   "language": "python",
   "name": "python3"
  },
  "language_info": {
   "codemirror_mode": {
    "name": "ipython",
    "version": 3
   },
   "file_extension": ".py",
   "mimetype": "text/x-python",
   "name": "python",
   "nbconvert_exporter": "python",
   "pygments_lexer": "ipython3",
   "version": "3.10.12"
  }
 },
 "nbformat": 4,
 "nbformat_minor": 2
}
